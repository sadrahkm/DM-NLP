{
  "nbformat": 4,
  "nbformat_minor": 0,
  "metadata": {
    "colab": {
      "provenance": [],
      "collapsed_sections": []
    },
    "kernelspec": {
      "name": "python3",
      "display_name": "Python 3"
    },
    "language_info": {
      "name": "python"
    },
    "accelerator": "GPU"
  },
  "cells": [
    {
      "cell_type": "code",
      "source": [
        "!pip install parsivar"
      ],
      "metadata": {
        "colab": {
          "base_uri": "https://localhost:8080/"
        },
        "id": "_kpnNf6zsQaf",
        "outputId": "769deeb2-00c8-4503-918b-bfac6d43fb08"
      },
      "execution_count": 1,
      "outputs": [
        {
          "output_type": "stream",
          "name": "stdout",
          "text": [
            "Looking in indexes: https://pypi.org/simple, https://us-python.pkg.dev/colab-wheels/public/simple/\n",
            "Collecting parsivar\n",
            "  Downloading parsivar-0.2.3.tar.gz (36.2 MB)\n",
            "\u001b[K     |████████████████████████████████| 36.2 MB 318 kB/s \n",
            "\u001b[?25hCollecting nltk==3.4.5\n",
            "  Downloading nltk-3.4.5.zip (1.5 MB)\n",
            "\u001b[K     |████████████████████████████████| 1.5 MB 36.1 MB/s \n",
            "\u001b[?25hRequirement already satisfied: six in /usr/local/lib/python3.7/dist-packages (from nltk==3.4.5->parsivar) (1.15.0)\n",
            "Building wheels for collected packages: parsivar, nltk\n",
            "  Building wheel for parsivar (setup.py) ... \u001b[?25l\u001b[?25hdone\n",
            "  Created wheel for parsivar: filename=parsivar-0.2.3-py3-none-any.whl size=36492972 sha256=b98048a2c3976755a83377090b401ca6f3c446ed7aefe9e1b72ac349461a3618\n",
            "  Stored in directory: /root/.cache/pip/wheels/ae/67/7a/49cbf08f64d3f76a26eceaf0e481a40e233f05d4356875cbed\n",
            "  Building wheel for nltk (setup.py) ... \u001b[?25l\u001b[?25hdone\n",
            "  Created wheel for nltk: filename=nltk-3.4.5-py3-none-any.whl size=1449921 sha256=cdf4f39f4750126817822e9f28e821712968190d748a11588607bb3852764f61\n",
            "  Stored in directory: /root/.cache/pip/wheels/48/8b/7f/473521e0c731c6566d631b281f323842bbda9bd819eb9a3ead\n",
            "Successfully built parsivar nltk\n",
            "Installing collected packages: nltk, parsivar\n",
            "  Attempting uninstall: nltk\n",
            "    Found existing installation: nltk 3.7\n",
            "    Uninstalling nltk-3.7:\n",
            "      Successfully uninstalled nltk-3.7\n",
            "Successfully installed nltk-3.4.5 parsivar-0.2.3\n"
          ]
        }
      ]
    },
    {
      "cell_type": "code",
      "source": [
        "!wget http://vectors.nlpl.eu/repository/20/61.zip\n",
        "!unzip 61.zip"
      ],
      "metadata": {
        "colab": {
          "base_uri": "https://localhost:8080/"
        },
        "id": "42usBAlmkE8z",
        "outputId": "c3c3f4b4-7eeb-48e5-c5da-954fd81c8014"
      },
      "execution_count": 14,
      "outputs": [
        {
          "output_type": "stream",
          "name": "stdout",
          "text": [
            "--2022-09-15 14:33:47--  http://vectors.nlpl.eu/repository/20/61.zip\n",
            "Resolving vectors.nlpl.eu (vectors.nlpl.eu)... 129.240.189.181\n",
            "Connecting to vectors.nlpl.eu (vectors.nlpl.eu)|129.240.189.181|:80... connected.\n",
            "HTTP request sent, awaiting response... 200 OK\n",
            "Length: 730416332 (697M) [application/zip]\n",
            "Saving to: ‘61.zip’\n",
            "\n",
            "61.zip              100%[===================>] 696.58M  18.2MB/s    in 40s     \n",
            "\n",
            "2022-09-15 14:34:27 (17.5 MB/s) - ‘61.zip’ saved [730416332/730416332]\n",
            "\n"
          ]
        }
      ]
    },
    {
      "cell_type": "code",
      "execution_count": 2,
      "metadata": {
        "id": "53VQullR_E_e"
      },
      "outputs": [],
      "source": [
        "from parsivar import Normalizer, Tokenizer, FindStems\n",
        "import numpy as np\n",
        "import matplotlib.pyplot as plt\n",
        "from tensorflow.keras.layers import Dense, LSTM, Embedding, SpatialDropout1D, Dropout\n",
        "from tensorflow.keras.models import Model\n",
        "from tensorflow.keras.models import Sequential\n",
        "import tensorflow as tf\n",
        "import pandas as pd"
      ]
    },
    {
      "cell_type": "code",
      "source": [
        "data = pd.read_csv('./train.csv', sep='\\t')\n",
        "\n",
        "data.iloc[0,1]\n",
        "commentsColumn = data.iloc[:,1]"
      ],
      "metadata": {
        "id": "bFUmR09llTEz"
      },
      "execution_count": 4,
      "outputs": []
    },
    {
      "cell_type": "code",
      "source": [
        "dev = pd.read_csv('./dev.csv', sep='\\t')\n",
        "validationCommentsColumn = dev.iloc[:,1]"
      ],
      "metadata": {
        "id": "ynYxsrOdjknf"
      },
      "execution_count": 22,
      "outputs": []
    },
    {
      "cell_type": "code",
      "source": [
        "def preprocessing(data):\n",
        "  commentsColumn = data.iloc[:,1]\n",
        "  comments = norm(commentsColumn)\n",
        "  TokenedComments = token(comments)\n",
        "  # embedding = load_word_embedding(path)\n",
        "  # stemmedComments = stem(TokenedComments)\n",
        "  vectorizedReviews = get_word2vec_enc(TokenedComments)\n",
        "  alignedReviews = alignItems(30, vectorizedReviews)\n",
        "  return alignedReviews"
      ],
      "metadata": {
        "id": "2fPyW7zPwBj1"
      },
      "execution_count": 5,
      "outputs": []
    },
    {
      "cell_type": "code",
      "source": [
        "def norm(commentsColumn):\n",
        "  comments = []\n",
        "  norm = Normalizer(pinglish_conversion_needed = True)\n",
        "  for text in commentsColumn:\n",
        "    comments.append(norm.normalize(text))\n",
        "  return comments"
      ],
      "metadata": {
        "id": "GgJd_mQV5cyu"
      },
      "execution_count": 6,
      "outputs": []
    },
    {
      "cell_type": "code",
      "source": [
        "def token(comments):\n",
        "  tokenizer = Tokenizer()\n",
        "  TokenedComments = []\n",
        "  for item in comments:\n",
        "    TokenedComments.append(tokenizer.tokenize_words(item))\n",
        "  return TokenedComments"
      ],
      "metadata": {
        "id": "DuyAM6O-BdAf"
      },
      "execution_count": 7,
      "outputs": []
    },
    {
      "cell_type": "code",
      "source": [
        "path = \"./model.txt\"\n",
        "def load_word_embedding(path, errors='replace'):\n",
        "  embedding = dict()\n",
        "  files= open(path,errors=errors, mode='r')\n",
        "  lines = files.readlines()[1:]\n",
        "  files.close()\n",
        "  for line in lines:\n",
        "    values = line.split()\n",
        "    embedding[values[0]] = np.array(values[1:], dtype='float32')\n",
        "  return embedding\n",
        "embedding = load_word_embedding(path)"
      ],
      "metadata": {
        "id": "Y64NxNRZrVY5"
      },
      "execution_count": 20,
      "outputs": []
    },
    {
      "cell_type": "code",
      "source": [
        "def stem(TokenedComments):\n",
        "  stemmer = FindStems()\n",
        "  stemmedComments = list()\n",
        "  for itemIndex in range(len(TokenedComments)):\n",
        "    for tokenIndex in range(len(TokenedComments[itemIndex])):\n",
        "      withAmperSan = stemmer.convert_to_stem(TokenedComments[itemIndex][tokenIndex])\n",
        "      TokenedComments[itemIndex][tokenIndex] = withAmperSan.split(\"&\")[0]\n",
        "  return TokenedComments\n",
        "# print (stemmer.convert_to_stem(\"بخوابیم\"))"
      ],
      "metadata": {
        "id": "c34zs-tKEPeG"
      },
      "execution_count": null,
      "outputs": []
    },
    {
      "cell_type": "code",
      "source": [
        "# print(comments[1]), TokenedComments[1], len(TokenedComments[1])"
      ],
      "metadata": {
        "id": "3zEARShMFz5b"
      },
      "execution_count": null,
      "outputs": []
    },
    {
      "cell_type": "code",
      "source": [
        "def get_word2vec_enc(sentences):\n",
        "    encoded_reviews = []\n",
        "    for sentence in sentences:\n",
        "      oneSentence = []\n",
        "      for token in sentence:\n",
        "        if (token in embedding):\n",
        "          oneSentence.append(embedding[token])\n",
        "      encoded_reviews.append(oneSentence)\n",
        "    return encoded_reviews\n",
        "# vectorizedReviews = get_word2vec_enc(TokenedComments)\n"
      ],
      "metadata": {
        "id": "PYYLFlJhdcO9"
      },
      "execution_count": 9,
      "outputs": []
    },
    {
      "cell_type": "code",
      "source": [
        "lengthesOfReviews = []\n",
        "for item in vectorizedReviews:\n",
        "  lengthesOfReviews.append(len(item))\n",
        "def show_histogram_chart(data):\n",
        "    plt.hist(data)\n",
        "    plt.show()\n",
        "show_histogram_chart(lengthesOfReviews)\n"
      ],
      "metadata": {
        "colab": {
          "base_uri": "https://localhost:8080/",
          "height": 265
        },
        "id": "B1q56wEd4tC8",
        "outputId": "3eb01905-5789-4d32-d7c4-a83198dec42d"
      },
      "execution_count": null,
      "outputs": [
        {
          "output_type": "display_data",
          "data": {
            "image/png": "[encoded data removed]",
            "text/plain": [
              "<Figure size 432x288 with 1 Axes>"
            ]
          },
          "metadata": {
            "needs_background": "light"
          }
        }
      ]
    },
    {
      "cell_type": "code",
      "source": [
        "def alignItems(maxLen,array):\n",
        "    pad = [0] * 100\n",
        "    allSentences = []\n",
        "    for sentence in array:\n",
        "        newSentence = []\n",
        "        paddingCount = maxLen - len(sentence)\n",
        "        if (paddingCount < 0):\n",
        "          newSentence = sentence[0:maxLen]\n",
        "        else:\n",
        "          newSentence = sentence\n",
        "          for token in range(paddingCount):\n",
        "              newSentence.append(pad)\n",
        "        allSentences.append(newSentence)\n",
        "    return allSentences"
      ],
      "metadata": {
        "id": "Kmb8bOFzjZzP"
      },
      "execution_count": 10,
      "outputs": []
    },
    {
      "cell_type": "code",
      "source": [
        "data.iloc[:,1]"
      ],
      "metadata": {
        "colab": {
          "base_uri": "https://localhost:8080/"
        },
        "id": "zEWrEk7vllRU",
        "outputId": "e901c3f8-e3c0-4995-8537-406866e5f095"
      },
      "execution_count": 32,
      "outputs": [
        {
          "output_type": "execute_result",
          "data": {
            "text/plain": [
              "0          واقعا حیف وقت که بنویسم سرویس دهیتون شده افتضاح\n",
              "1        قرار بود ۱ ساعته برسه ولی نیم ساعت زودتر از مو...\n",
              "2        قیمت این مدل اصلا با کیفیتش سازگاری نداره، فقط...\n",
              "3        عالللی بود همه چه درست و به اندازه و کیفیت خوب...\n",
              "4                            شیرینی وانیلی فقط یک مدل بود.\n",
              "                               ...                        \n",
              "56695    یک تیکه کم فرستاده بودن و با تماس من در کمترین...\n",
              "56696    عالی بود همه چیز ممنونم پیک هم خیلی مرتب و به ...\n",
              "56697    مثل همیشه عالی، من چندمین باره سفارش میدم و هر...\n",
              "56698        دلستر استوایی خواسته بودم اما لیمویی فرستادند\n",
              "56699    جای مرغ گریل شده ناگت بود، به این نمی‌گن چیکن ...\n",
              "Name: comment, Length: 56700, dtype: object"
            ]
          },
          "metadata": {},
          "execution_count": 32
        }
      ]
    },
    {
      "cell_type": "code",
      "source": [
        "alignedReviews = preprocessing(data)"
      ],
      "metadata": {
        "id": "jJIPrBZex6Kr"
      },
      "execution_count": 21,
      "outputs": []
    },
    {
      "cell_type": "code",
      "source": [
        "alignedReviewsValidation = preprocessing(dev)"
      ],
      "metadata": {
        "id": "a4CZJ2SZzEZT"
      },
      "execution_count": 23,
      "outputs": []
    },
    {
      "cell_type": "code",
      "source": [
        "# alignedReviews = alignItems(30, vectorizedReviews)"
      ],
      "metadata": {
        "id": "bfzwyXV1jbYb"
      },
      "execution_count": null,
      "outputs": []
    },
    {
      "cell_type": "code",
      "source": [
        "len(alignedReviews[120])"
      ],
      "metadata": {
        "colab": {
          "base_uri": "https://localhost:8080/"
        },
        "id": "F2m5siqHAa78",
        "outputId": "03472504-35f1-4dd3-9a32-470a9e36b6ac"
      },
      "execution_count": 24,
      "outputs": [
        {
          "output_type": "execute_result",
          "data": {
            "text/plain": [
              "30"
            ]
          },
          "metadata": {},
          "execution_count": 24
        }
      ]
    },
    {
      "cell_type": "code",
      "source": [
        "len(alignedReviewsValidation[120])"
      ],
      "metadata": {
        "colab": {
          "base_uri": "https://localhost:8080/"
        },
        "id": "6U6zTXbHzQP0",
        "outputId": "a8e2af42-92a8-43bd-db1b-452abb37bb5b"
      },
      "execution_count": null,
      "outputs": [
        {
          "output_type": "execute_result",
          "data": {
            "text/plain": [
              "30"
            ]
          },
          "metadata": {},
          "execution_count": 58
        }
      ]
    },
    {
      "cell_type": "code",
      "source": [
        "lengthesOfReviews = []\n",
        "for item in alignedReviews:\n",
        "  lengthesOfReviews.append(len(item))\n",
        "def show_histogram_chart(data):\n",
        "    plt.hist(data)\n",
        "    plt.show()\n",
        "show_histogram_chart(lengthesOfReviews)"
      ],
      "metadata": {
        "id": "CMXmomERrwCe",
        "colab": {
          "base_uri": "https://localhost:8080/",
          "height": 265
        },
        "outputId": "80a5d886-b8e8-4186-a5c4-c4cd78c2c73f"
      },
      "execution_count": 25,
      "outputs": [
        {
          "output_type": "display_data",
          "data": {
            "text/plain": [
              "<Figure size 432x288 with 1 Axes>"
            ],
            "image/png": "[encoded data removed]"
          },
          "metadata": {
            "needs_background": "light"
          }
        }
      ]
    },
    {
      "cell_type": "code",
      "source": [
        "model = Sequential()\n",
        "# model.add(Embedding(100, 100, weights=embedding))\n",
        "# model.add(SpatialDropout1D(drop_embed))\n",
        "model.add(LSTM(100))\n",
        "model.add(Dropout(0.2))\n",
        "# model.add(Dense(64, activation='relu'))\n",
        "model.add(Dense(1, activation='sigmoid'))"
      ],
      "metadata": {
        "id": "DUKvp4mPe2vG"
      },
      "execution_count": 26,
      "outputs": []
    },
    {
      "cell_type": "code",
      "source": [
        "model.compile(loss=\"binary_crossentropy\",\n",
        "              optimizer='adam',\n",
        "              metrics=['accuracy'])"
      ],
      "metadata": {
        "id": "f6knE1R6ylw7"
      },
      "execution_count": 27,
      "outputs": []
    },
    {
      "cell_type": "code",
      "source": [
        "# tfdataset = tf.data.Dataset.from_tensor_slices(np.array(alignedReviews)).batch(32)"
      ],
      "metadata": {
        "id": "u4G5SBT6ay9V"
      },
      "execution_count": null,
      "outputs": []
    },
    {
      "cell_type": "code",
      "source": [
        "alignedReviews[:10]"
      ],
      "metadata": {
        "id": "k1RnLpRblX5y"
      },
      "execution_count": null,
      "outputs": []
    },
    {
      "cell_type": "code",
      "source": [
        "X = np.array(alignedReviews)\n",
        "y = np.array(data['label_id'])"
      ],
      "metadata": {
        "id": "RwtoR6Gf8ck7"
      },
      "execution_count": 28,
      "outputs": []
    },
    {
      "cell_type": "code",
      "source": [
        "X_validation = np.array(alignedReviewsValidation)\n",
        "y_validation = np.array(dev[\"label_id\"])"
      ],
      "metadata": {
        "id": "pZrYa8sls-US"
      },
      "execution_count": 33,
      "outputs": []
    },
    {
      "cell_type": "code",
      "source": [
        "outputOfFittedModel = model.fit(X, y, epochs=10, batch_size=32, validation_data=(X_validation, y_validation))"
      ],
      "metadata": {
        "id": "2m2yeuAG1jmG",
        "colab": {
          "base_uri": "https://localhost:8080/"
        },
        "outputId": "cce66238-8556-40a3-abac-48706a416a51"
      },
      "execution_count": 34,
      "outputs": [
        {
          "output_type": "stream",
          "name": "stdout",
          "text": [
            "Epoch 1/10\n",
            "1772/1772 [==============================] - 18s 6ms/step - loss: 0.4655 - accuracy: 0.7789 - val_loss: 0.4250 - val_accuracy: 0.8071\n",
            "Epoch 2/10\n",
            "1772/1772 [==============================] - 10s 5ms/step - loss: 0.4058 - accuracy: 0.8198 - val_loss: 0.3929 - val_accuracy: 0.8213\n",
            "Epoch 3/10\n",
            "1772/1772 [==============================] - 10s 6ms/step - loss: 0.3823 - accuracy: 0.8316 - val_loss: 0.3805 - val_accuracy: 0.8306\n",
            "Epoch 4/10\n",
            "1772/1772 [==============================] - 10s 6ms/step - loss: 0.3664 - accuracy: 0.8406 - val_loss: 0.3947 - val_accuracy: 0.8208\n",
            "Epoch 5/10\n",
            "1772/1772 [==============================] - 10s 6ms/step - loss: 0.3515 - accuracy: 0.8483 - val_loss: 0.3692 - val_accuracy: 0.8362\n",
            "Epoch 6/10\n",
            "1772/1772 [==============================] - 10s 6ms/step - loss: 0.3427 - accuracy: 0.8525 - val_loss: 0.3715 - val_accuracy: 0.8335\n",
            "Epoch 7/10\n",
            "1772/1772 [==============================] - 10s 6ms/step - loss: 0.3315 - accuracy: 0.8579 - val_loss: 0.3647 - val_accuracy: 0.8400\n",
            "Epoch 8/10\n",
            "1772/1772 [==============================] - 10s 6ms/step - loss: 0.3210 - accuracy: 0.8628 - val_loss: 0.3654 - val_accuracy: 0.8387\n",
            "Epoch 9/10\n",
            "1772/1772 [==============================] - 10s 6ms/step - loss: 0.3085 - accuracy: 0.8698 - val_loss: 0.3712 - val_accuracy: 0.8333\n",
            "Epoch 10/10\n",
            "1772/1772 [==============================] - 10s 6ms/step - loss: 0.2946 - accuracy: 0.8771 - val_loss: 0.3739 - val_accuracy: 0.8375\n"
          ]
        }
      ]
    },
    {
      "cell_type": "code",
      "source": [
        "model.summary()"
      ],
      "metadata": {
        "colab": {
          "base_uri": "https://localhost:8080/"
        },
        "id": "HJmfOTpkHh__",
        "outputId": "ba8ca7a6-05a6-4e92-cd52-2565257409fa"
      },
      "execution_count": null,
      "outputs": [
        {
          "output_type": "stream",
          "name": "stdout",
          "text": [
            "Model: \"sequential_2\"\n",
            "_________________________________________________________________\n",
            " Layer (type)                Output Shape              Param #   \n",
            "=================================================================\n",
            " lstm_2 (LSTM)               (None, 100)               80400     \n",
            "                                                                 \n",
            " dropout_1 (Dropout)         (None, 100)               0         \n",
            "                                                                 \n",
            " dense_4 (Dense)             (None, 1)                 101       \n",
            "                                                                 \n",
            "=================================================================\n",
            "Total params: 80,501\n",
            "Trainable params: 80,501\n",
            "Non-trainable params: 0\n",
            "_________________________________________________________________\n"
          ]
        }
      ]
    },
    {
      "cell_type": "code",
      "source": [
        "# evaluate the model\n",
        "_, train_acc = model.evaluate(X, y, verbose=0)\n",
        "_, test_acc = model.evaluate(X_validation, y_validation, verbose=0)\n",
        "print('Train: %.3f, Test: %.3f' % (train_acc, test_acc))"
      ],
      "metadata": {
        "id": "0j7UTDgCAfS-",
        "colab": {
          "base_uri": "https://localhost:8080/"
        },
        "outputId": "fceb5310-1e87-4e77-eb8c-d4091b4c8cdd"
      },
      "execution_count": 36,
      "outputs": [
        {
          "output_type": "stream",
          "name": "stdout",
          "text": [
            "Train: 0.887, Test: 0.837\n"
          ]
        }
      ]
    },
    {
      "cell_type": "code",
      "source": [
        "data.iloc[0]"
      ],
      "metadata": {
        "colab": {
          "base_uri": "https://localhost:8080/"
        },
        "id": "FWwjR4lvmtHm",
        "outputId": "4dd9758e-3bbb-43f4-9c30-6f88badf3150"
      },
      "execution_count": 40,
      "outputs": [
        {
          "output_type": "execute_result",
          "data": {
            "text/plain": [
              "Unnamed: 0                                                  0\n",
              "comment       واقعا حیف وقت که بنویسم سرویس دهیتون شده افتضاح\n",
              "label                                                     SAD\n",
              "label_id                                                    1\n",
              "Name: 0, dtype: object"
            ]
          },
          "metadata": {},
          "execution_count": 40
        }
      ]
    },
    {
      "cell_type": "code",
      "source": [
        "test_text = model.predict(X)"
      ],
      "metadata": {
        "id": "O1hST70Smim8"
      },
      "execution_count": 44,
      "outputs": []
    },
    {
      "cell_type": "code",
      "source": [
        "data.iloc[8,1]"
      ],
      "metadata": {
        "colab": {
          "base_uri": "https://localhost:8080/",
          "height": 35
        },
        "id": "3HoHEqVxnIjR",
        "outputId": "2b4ad263-617b-4539-b6c9-e31c93c4c8be"
      },
      "execution_count": 62,
      "outputs": [
        {
          "output_type": "execute_result",
          "data": {
            "text/plain": [
              "'همه اقلام تازه و به روز وخیلیییییی سریع بدستم رسید واقعا متشکرم'"
            ],
            "application/vnd.google.colaboratory.intrinsic+json": {
              "type": "string"
            }
          },
          "metadata": {},
          "execution_count": 62
        }
      ]
    },
    {
      "cell_type": "code",
      "source": [
        "test_text[9]"
      ],
      "metadata": {
        "colab": {
          "base_uri": "https://localhost:8080/"
        },
        "id": "J2j64dXwnC2y",
        "outputId": "3e87ec19-99d3-4d1d-817f-276a778f62d5"
      },
      "execution_count": 64,
      "outputs": [
        {
          "output_type": "execute_result",
          "data": {
            "text/plain": [
              "array([0.32974392], dtype=float32)"
            ]
          },
          "metadata": {},
          "execution_count": 64
        }
      ]
    },
    {
      "cell_type": "code",
      "source": [
        "acc = outputOfFittedModel.history['accuracy']\n",
        "val_acc = outputOfFittedModel.history['val_accuracy']\n",
        "loss = outputOfFittedModel.history['loss']\n",
        "val_loss = outputOfFittedModel.history['val_loss']\n",
        "x = range(1, len(acc) + 1)\n",
        "\n",
        "plt.figure(figsize=(12, 5))\n",
        "plt.subplot(1, 2, 1)\n",
        "plt.plot(x, acc, 'g', label='Training')\n",
        "plt.plot(x, val_acc, 'b', label='Validation')\n",
        "plt.title('accuracy')\n",
        "plt.legend()\n",
        "plt.subplot(1, 2, 2)\n",
        "plt.plot(x, loss, 'g', label='Training')\n",
        "plt.plot(x, val_loss, 'b', label='Validation')\n",
        "plt.title('loss')"
      ],
      "metadata": {
        "colab": {
          "base_uri": "https://localhost:8080/",
          "height": 353
        },
        "id": "6FokBdZk2ogB",
        "outputId": "ce0c08ef-eabc-4798-f47b-34e37fcc1d5d"
      },
      "execution_count": 35,
      "outputs": [
        {
          "output_type": "execute_result",
          "data": {
            "text/plain": [
              "Text(0.5, 1.0, 'loss')"
            ]
          },
          "metadata": {},
          "execution_count": 35
        },
        {
          "output_type": "display_data",
          "data": {
            "text/plain": [
              "<Figure size 864x360 with 2 Axes>"
            ],
            "image/png": "[encoded data removed]"
          },
          "metadata": {
            "needs_background": "light"
          }
        }
      ]
    }
  ]
}